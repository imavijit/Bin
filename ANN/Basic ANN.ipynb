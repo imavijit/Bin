{
 "cells": [
  {
   "cell_type": "code",
   "execution_count": 1,
   "metadata": {},
   "outputs": [],
   "source": [
    "import numpy as np\n",
    "import pandas as pd\n",
    "import matplotlib.pyplot as plt"
   ]
  },
  {
   "cell_type": "code",
   "execution_count": 2,
   "metadata": {},
   "outputs": [
    {
     "data": {
      "text/html": [
       "<div>\n",
       "<style scoped>\n",
       "    .dataframe tbody tr th:only-of-type {\n",
       "        vertical-align: middle;\n",
       "    }\n",
       "\n",
       "    .dataframe tbody tr th {\n",
       "        vertical-align: top;\n",
       "    }\n",
       "\n",
       "    .dataframe thead th {\n",
       "        text-align: right;\n",
       "    }\n",
       "</style>\n",
       "<table border=\"1\" class=\"dataframe\">\n",
       "  <thead>\n",
       "    <tr style=\"text-align: right;\">\n",
       "      <th></th>\n",
       "      <th>RowNumber</th>\n",
       "      <th>CustomerId</th>\n",
       "      <th>Surname</th>\n",
       "      <th>CreditScore</th>\n",
       "      <th>Geography</th>\n",
       "      <th>Gender</th>\n",
       "      <th>Age</th>\n",
       "      <th>Tenure</th>\n",
       "      <th>Balance</th>\n",
       "      <th>NumOfProducts</th>\n",
       "      <th>HasCrCard</th>\n",
       "      <th>IsActiveMember</th>\n",
       "      <th>EstimatedSalary</th>\n",
       "      <th>Exited</th>\n",
       "    </tr>\n",
       "  </thead>\n",
       "  <tbody>\n",
       "    <tr>\n",
       "      <th>0</th>\n",
       "      <td>1</td>\n",
       "      <td>15634602</td>\n",
       "      <td>Hargrave</td>\n",
       "      <td>619</td>\n",
       "      <td>France</td>\n",
       "      <td>Female</td>\n",
       "      <td>42</td>\n",
       "      <td>2</td>\n",
       "      <td>0.00</td>\n",
       "      <td>1</td>\n",
       "      <td>1</td>\n",
       "      <td>1</td>\n",
       "      <td>101348.88</td>\n",
       "      <td>1</td>\n",
       "    </tr>\n",
       "    <tr>\n",
       "      <th>1</th>\n",
       "      <td>2</td>\n",
       "      <td>15647311</td>\n",
       "      <td>Hill</td>\n",
       "      <td>608</td>\n",
       "      <td>Spain</td>\n",
       "      <td>Female</td>\n",
       "      <td>41</td>\n",
       "      <td>1</td>\n",
       "      <td>83807.86</td>\n",
       "      <td>1</td>\n",
       "      <td>0</td>\n",
       "      <td>1</td>\n",
       "      <td>112542.58</td>\n",
       "      <td>0</td>\n",
       "    </tr>\n",
       "    <tr>\n",
       "      <th>2</th>\n",
       "      <td>3</td>\n",
       "      <td>15619304</td>\n",
       "      <td>Onio</td>\n",
       "      <td>502</td>\n",
       "      <td>France</td>\n",
       "      <td>Female</td>\n",
       "      <td>42</td>\n",
       "      <td>8</td>\n",
       "      <td>159660.80</td>\n",
       "      <td>3</td>\n",
       "      <td>1</td>\n",
       "      <td>0</td>\n",
       "      <td>113931.57</td>\n",
       "      <td>1</td>\n",
       "    </tr>\n",
       "    <tr>\n",
       "      <th>3</th>\n",
       "      <td>4</td>\n",
       "      <td>15701354</td>\n",
       "      <td>Boni</td>\n",
       "      <td>699</td>\n",
       "      <td>France</td>\n",
       "      <td>Female</td>\n",
       "      <td>39</td>\n",
       "      <td>1</td>\n",
       "      <td>0.00</td>\n",
       "      <td>2</td>\n",
       "      <td>0</td>\n",
       "      <td>0</td>\n",
       "      <td>93826.63</td>\n",
       "      <td>0</td>\n",
       "    </tr>\n",
       "    <tr>\n",
       "      <th>4</th>\n",
       "      <td>5</td>\n",
       "      <td>15737888</td>\n",
       "      <td>Mitchell</td>\n",
       "      <td>850</td>\n",
       "      <td>Spain</td>\n",
       "      <td>Female</td>\n",
       "      <td>43</td>\n",
       "      <td>2</td>\n",
       "      <td>125510.82</td>\n",
       "      <td>1</td>\n",
       "      <td>1</td>\n",
       "      <td>1</td>\n",
       "      <td>79084.10</td>\n",
       "      <td>0</td>\n",
       "    </tr>\n",
       "  </tbody>\n",
       "</table>\n",
       "</div>"
      ],
      "text/plain": [
       "   RowNumber  CustomerId   Surname  CreditScore Geography  Gender  Age  \\\n",
       "0          1    15634602  Hargrave          619    France  Female   42   \n",
       "1          2    15647311      Hill          608     Spain  Female   41   \n",
       "2          3    15619304      Onio          502    France  Female   42   \n",
       "3          4    15701354      Boni          699    France  Female   39   \n",
       "4          5    15737888  Mitchell          850     Spain  Female   43   \n",
       "\n",
       "   Tenure    Balance  NumOfProducts  HasCrCard  IsActiveMember  \\\n",
       "0       2       0.00              1          1               1   \n",
       "1       1   83807.86              1          0               1   \n",
       "2       8  159660.80              3          1               0   \n",
       "3       1       0.00              2          0               0   \n",
       "4       2  125510.82              1          1               1   \n",
       "\n",
       "   EstimatedSalary  Exited  \n",
       "0        101348.88       1  \n",
       "1        112542.58       0  \n",
       "2        113931.57       1  \n",
       "3         93826.63       0  \n",
       "4         79084.10       0  "
      ]
     },
     "execution_count": 2,
     "metadata": {},
     "output_type": "execute_result"
    }
   ],
   "source": [
    "# Importing the dataset\n",
    "df= pd.read_csv('D:\\Datasets\\Churn_Modelling.csv')\n",
    "df.head(5)"
   ]
  },
  {
   "cell_type": "code",
   "execution_count": 3,
   "metadata": {},
   "outputs": [],
   "source": [
    "X = df.iloc[:, 3:13].values\n",
    "y = df.iloc[:, 13].values"
   ]
  },
  {
   "cell_type": "code",
   "execution_count": 4,
   "metadata": {},
   "outputs": [
    {
     "name": "stderr",
     "output_type": "stream",
     "text": [
      "c:\\users\\avijit saha\\appdata\\local\\programs\\python\\python36\\lib\\site-packages\\sklearn\\preprocessing\\_encoders.py:371: FutureWarning: The handling of integer data will change in version 0.22. Currently, the categories are determined based on the range [0, max(values)], while in the future they will be determined based on the unique values.\n",
      "If you want the future behaviour and silence this warning, you can specify \"categories='auto'\".\n",
      "In case you used a LabelEncoder before this OneHotEncoder to convert the categories to integers, then you can now use the OneHotEncoder directly.\n",
      "  warnings.warn(msg, FutureWarning)\n",
      "c:\\users\\avijit saha\\appdata\\local\\programs\\python\\python36\\lib\\site-packages\\sklearn\\preprocessing\\_encoders.py:392: DeprecationWarning: The 'categorical_features' keyword is deprecated in version 0.20 and will be removed in 0.22. You can use the ColumnTransformer instead.\n",
      "  \"use the ColumnTransformer instead.\", DeprecationWarning)\n"
     ]
    }
   ],
   "source": [
    "# Encoding categorical data\n",
    "from sklearn.preprocessing import LabelEncoder, OneHotEncoder\n",
    "labelencoder_X_1 = LabelEncoder()\n",
    "X[:, 1] = labelencoder_X_1.fit_transform(X[:, 1])\n",
    "labelencoder_X_2 = LabelEncoder()\n",
    "X[:, 2] = labelencoder_X_2.fit_transform(X[:, 2])\n",
    "onehotencoder = OneHotEncoder(categorical_features = [1])\n",
    "X = onehotencoder.fit_transform(X).toarray()\n",
    "X = X[:, 1:]"
   ]
  },
  {
   "cell_type": "code",
   "execution_count": 5,
   "metadata": {},
   "outputs": [
    {
     "data": {
      "text/plain": [
       "array([[0.0000000e+00, 0.0000000e+00, 6.1900000e+02, ..., 1.0000000e+00,\n",
       "        1.0000000e+00, 1.0134888e+05],\n",
       "       [0.0000000e+00, 1.0000000e+00, 6.0800000e+02, ..., 0.0000000e+00,\n",
       "        1.0000000e+00, 1.1254258e+05],\n",
       "       [0.0000000e+00, 0.0000000e+00, 5.0200000e+02, ..., 1.0000000e+00,\n",
       "        0.0000000e+00, 1.1393157e+05],\n",
       "       ...,\n",
       "       [0.0000000e+00, 0.0000000e+00, 7.0900000e+02, ..., 0.0000000e+00,\n",
       "        1.0000000e+00, 4.2085580e+04],\n",
       "       [1.0000000e+00, 0.0000000e+00, 7.7200000e+02, ..., 1.0000000e+00,\n",
       "        0.0000000e+00, 9.2888520e+04],\n",
       "       [0.0000000e+00, 0.0000000e+00, 7.9200000e+02, ..., 1.0000000e+00,\n",
       "        0.0000000e+00, 3.8190780e+04]])"
      ]
     },
     "execution_count": 5,
     "metadata": {},
     "output_type": "execute_result"
    }
   ],
   "source": [
    "X"
   ]
  },
  {
   "cell_type": "code",
   "execution_count": 6,
   "metadata": {},
   "outputs": [],
   "source": [
    "# Splitting the dataset into the Training set and Test set\n",
    "from sklearn.model_selection import train_test_split\n",
    "X_train, X_test, y_train, y_test = train_test_split(X, y, test_size = 0.2, random_state = 0)"
   ]
  },
  {
   "cell_type": "code",
   "execution_count": 7,
   "metadata": {},
   "outputs": [],
   "source": [
    "# Feature Scaling\n",
    "from sklearn.preprocessing import StandardScaler\n",
    "sc = StandardScaler()\n",
    "X_train = sc.fit_transform(X_train)\n",
    "X_test = sc.transform(X_test)"
   ]
  },
  {
   "cell_type": "code",
   "execution_count": 8,
   "metadata": {},
   "outputs": [
    {
     "name": "stderr",
     "output_type": "stream",
     "text": [
      "Using TensorFlow backend.\n"
     ]
    }
   ],
   "source": [
    "import keras\n",
    "from keras.models import Sequential\n",
    "from keras.layers import Dense"
   ]
  },
  {
   "cell_type": "code",
   "execution_count": 9,
   "metadata": {},
   "outputs": [
    {
     "data": {
      "text/plain": [
       "(8000, 11)"
      ]
     },
     "execution_count": 9,
     "metadata": {},
     "output_type": "execute_result"
    }
   ],
   "source": [
    "X_train.shape"
   ]
  },
  {
   "cell_type": "code",
   "execution_count": 10,
   "metadata": {},
   "outputs": [],
   "source": [
    "#Initializing the ANN\n",
    "classifier=Sequential()"
   ]
  },
  {
   "cell_type": "code",
   "execution_count": 11,
   "metadata": {},
   "outputs": [
    {
     "name": "stdout",
     "output_type": "stream",
     "text": [
      "WARNING:tensorflow:From c:\\users\\avijit saha\\appdata\\local\\programs\\python\\python36\\lib\\site-packages\\tensorflow\\python\\framework\\op_def_library.py:263: colocate_with (from tensorflow.python.framework.ops) is deprecated and will be removed in a future version.\n",
      "Instructions for updating:\n",
      "Colocations handled automatically by placer.\n"
     ]
    },
    {
     "name": "stderr",
     "output_type": "stream",
     "text": [
      "c:\\users\\avijit saha\\appdata\\local\\programs\\python\\python36\\lib\\site-packages\\ipykernel_launcher.py:3: UserWarning: Update your `Dense` call to the Keras 2 API: `Dense(input_dim=11, activation=\"relu\", units=6, kernel_initializer=\"uniform\")`\n",
      "  This is separate from the ipykernel package so we can avoid doing imports until\n"
     ]
    }
   ],
   "source": [
    "# Adding the input layer and the first hiden layer\n",
    "# output_dim is calculated by (No. of input layer + No. of output layer)/2 i.e 11+1/2=6\n",
    "classifier.add(Dense(input_dim=11,output_dim=6,activation='relu',init='uniform'))"
   ]
  },
  {
   "cell_type": "code",
   "execution_count": 12,
   "metadata": {},
   "outputs": [
    {
     "name": "stderr",
     "output_type": "stream",
     "text": [
      "c:\\users\\avijit saha\\appdata\\local\\programs\\python\\python36\\lib\\site-packages\\ipykernel_launcher.py:2: UserWarning: Update your `Dense` call to the Keras 2 API: `Dense(activation=\"relu\", units=6, kernel_initializer=\"uniform\")`\n",
      "  \n"
     ]
    }
   ],
   "source": [
    "# Adding second hidden layer\n",
    "classifier.add(Dense(output_dim=6,init='uniform',activation='relu'))"
   ]
  },
  {
   "cell_type": "code",
   "execution_count": 13,
   "metadata": {},
   "outputs": [
    {
     "name": "stderr",
     "output_type": "stream",
     "text": [
      "c:\\users\\avijit saha\\appdata\\local\\programs\\python\\python36\\lib\\site-packages\\ipykernel_launcher.py:2: UserWarning: Update your `Dense` call to the Keras 2 API: `Dense(activation=\"sigmoid\", units=1, kernel_initializer=\"uniform\")`\n",
      "  \n"
     ]
    }
   ],
   "source": [
    "# Adding the output layer\n",
    "classifier.add(Dense(output_dim=1,init='uniform',activation='sigmoid'))"
   ]
  },
  {
   "cell_type": "code",
   "execution_count": 14,
   "metadata": {},
   "outputs": [],
   "source": [
    "# Compiling the ANN\n",
    "classifier.compile(optimizer='adam',loss='binary_crossentropy',metrics=['accuracy'])"
   ]
  },
  {
   "cell_type": "code",
   "execution_count": 15,
   "metadata": {},
   "outputs": [
    {
     "name": "stderr",
     "output_type": "stream",
     "text": [
      "c:\\users\\avijit saha\\appdata\\local\\programs\\python\\python36\\lib\\site-packages\\ipykernel_launcher.py:2: UserWarning: The `nb_epoch` argument in `fit` has been renamed `epochs`.\n",
      "  \n"
     ]
    },
    {
     "name": "stdout",
     "output_type": "stream",
     "text": [
      "WARNING:tensorflow:From c:\\users\\avijit saha\\appdata\\local\\programs\\python\\python36\\lib\\site-packages\\tensorflow\\python\\ops\\math_ops.py:3066: to_int32 (from tensorflow.python.ops.math_ops) is deprecated and will be removed in a future version.\n",
      "Instructions for updating:\n",
      "Use tf.cast instead.\n",
      "Epoch 1/100\n",
      "8000/8000 [==============================] - 1s 152us/step - loss: 0.4769 - acc: 0.7960\n",
      "Epoch 2/100\n",
      "8000/8000 [==============================] - 1s 97us/step - loss: 0.4250 - acc: 0.7960\n",
      "Epoch 3/100\n",
      "8000/8000 [==============================] - 1s 100us/step - loss: 0.4187 - acc: 0.8127\n",
      "Epoch 4/100\n",
      "8000/8000 [==============================] - 1s 103us/step - loss: 0.4159 - acc: 0.8271\n",
      "Epoch 5/100\n",
      "8000/8000 [==============================] - 1s 99us/step - loss: 0.4144 - acc: 0.8286\n",
      "Epoch 6/100\n",
      "8000/8000 [==============================] - 1s 101us/step - loss: 0.4123 - acc: 0.8299\n",
      "Epoch 7/100\n",
      "8000/8000 [==============================] - 1s 98us/step - loss: 0.4116 - acc: 0.8341\n",
      "Epoch 8/100\n",
      "8000/8000 [==============================] - 1s 99us/step - loss: 0.4109 - acc: 0.8341\n",
      "Epoch 9/100\n",
      "8000/8000 [==============================] - 1s 101us/step - loss: 0.4099 - acc: 0.8330\n",
      "Epoch 10/100\n",
      "8000/8000 [==============================] - 1s 131us/step - loss: 0.4092 - acc: 0.8339\n",
      "Epoch 11/100\n",
      "8000/8000 [==============================] - 1s 119us/step - loss: 0.4084 - acc: 0.8356\n",
      "Epoch 12/100\n",
      "8000/8000 [==============================] - 1s 124us/step - loss: 0.4071 - acc: 0.8324\n",
      "Epoch 13/100\n",
      "8000/8000 [==============================] - 1s 154us/step - loss: 0.4064 - acc: 0.8344\n",
      "Epoch 14/100\n",
      "8000/8000 [==============================] - 1s 168us/step - loss: 0.4066 - acc: 0.8360\n",
      "Epoch 15/100\n",
      "8000/8000 [==============================] - 1s 121us/step - loss: 0.4062 - acc: 0.8352\n",
      "Epoch 16/100\n",
      "8000/8000 [==============================] - 1s 118us/step - loss: 0.4060 - acc: 0.8345\n",
      "Epoch 17/100\n",
      "8000/8000 [==============================] - 1s 120us/step - loss: 0.4054 - acc: 0.8336\n",
      "Epoch 18/100\n",
      "8000/8000 [==============================] - 1s 136us/step - loss: 0.4053 - acc: 0.8341\n",
      "Epoch 19/100\n",
      "8000/8000 [==============================] - 1s 140us/step - loss: 0.4047 - acc: 0.8355\n",
      "Epoch 20/100\n",
      "8000/8000 [==============================] - 1s 162us/step - loss: 0.4042 - acc: 0.8354\n",
      "Epoch 21/100\n",
      "8000/8000 [==============================] - 1s 108us/step - loss: 0.4037 - acc: 0.8342\n",
      "Epoch 22/100\n",
      "8000/8000 [==============================] - 1s 108us/step - loss: 0.4038 - acc: 0.8344\n",
      "Epoch 23/100\n",
      "8000/8000 [==============================] - 1s 111us/step - loss: 0.4037 - acc: 0.8330\n",
      "Epoch 24/100\n",
      "8000/8000 [==============================] - 1s 112us/step - loss: 0.4034 - acc: 0.8329\n",
      "Epoch 25/100\n",
      "8000/8000 [==============================] - 1s 111us/step - loss: 0.4030 - acc: 0.8342\n",
      "Epoch 26/100\n",
      "8000/8000 [==============================] - 1s 113us/step - loss: 0.4023 - acc: 0.8347\n",
      "Epoch 27/100\n",
      "8000/8000 [==============================] - 1s 115us/step - loss: 0.4029 - acc: 0.8335\n",
      "Epoch 28/100\n",
      "8000/8000 [==============================] - 1s 110us/step - loss: 0.4026 - acc: 0.8341\n",
      "Epoch 29/100\n",
      "8000/8000 [==============================] - 1s 107us/step - loss: 0.4025 - acc: 0.8337\n",
      "Epoch 30/100\n",
      "8000/8000 [==============================] - 1s 110us/step - loss: 0.4018 - acc: 0.8340\n",
      "Epoch 31/100\n",
      "8000/8000 [==============================] - 1s 110us/step - loss: 0.4019 - acc: 0.8344\n",
      "Epoch 32/100\n",
      "8000/8000 [==============================] - 1s 104us/step - loss: 0.4018 - acc: 0.8344\n",
      "Epoch 33/100\n",
      "8000/8000 [==============================] - 1s 111us/step - loss: 0.4013 - acc: 0.8350\n",
      "Epoch 34/100\n",
      "8000/8000 [==============================] - 1s 113us/step - loss: 0.4017 - acc: 0.8344\n",
      "Epoch 35/100\n",
      "8000/8000 [==============================] - 1s 109us/step - loss: 0.4014 - acc: 0.8336\n",
      "Epoch 36/100\n",
      "8000/8000 [==============================] - 1s 117us/step - loss: 0.4014 - acc: 0.8356\n",
      "Epoch 37/100\n",
      "8000/8000 [==============================] - 1s 111us/step - loss: 0.4013 - acc: 0.8341\n",
      "Epoch 38/100\n",
      "8000/8000 [==============================] - 1s 114us/step - loss: 0.4011 - acc: 0.8347\n",
      "Epoch 39/100\n",
      "8000/8000 [==============================] - 1s 115us/step - loss: 0.4013 - acc: 0.8351\n",
      "Epoch 40/100\n",
      "8000/8000 [==============================] - 1s 107us/step - loss: 0.4013 - acc: 0.8340\n",
      "Epoch 41/100\n",
      "8000/8000 [==============================] - 1s 106us/step - loss: 0.4011 - acc: 0.8346\n",
      "Epoch 42/100\n",
      "8000/8000 [==============================] - 1s 109us/step - loss: 0.4011 - acc: 0.8352\n",
      "Epoch 43/100\n",
      "8000/8000 [==============================] - 1s 104us/step - loss: 0.4013 - acc: 0.8339\n",
      "Epoch 44/100\n",
      "8000/8000 [==============================] - 1s 110us/step - loss: 0.4008 - acc: 0.8357\n",
      "Epoch 45/100\n",
      "8000/8000 [==============================] - 1s 119us/step - loss: 0.4006 - acc: 0.8355\n",
      "Epoch 46/100\n",
      "8000/8000 [==============================] - 1s 170us/step - loss: 0.4007 - acc: 0.8345\n",
      "Epoch 47/100\n",
      "8000/8000 [==============================] - 1s 113us/step - loss: 0.4005 - acc: 0.8341\n",
      "Epoch 48/100\n",
      "8000/8000 [==============================] - 1s 119us/step - loss: 0.4003 - acc: 0.8346\n",
      "Epoch 49/100\n",
      "8000/8000 [==============================] - 1s 143us/step - loss: 0.4001 - acc: 0.8337\n",
      "Epoch 50/100\n",
      "8000/8000 [==============================] - 1s 138us/step - loss: 0.4006 - acc: 0.8356\n",
      "Epoch 51/100\n",
      "8000/8000 [==============================] - 1s 131us/step - loss: 0.4011 - acc: 0.8369\n",
      "Epoch 52/100\n",
      "8000/8000 [==============================] - 1s 117us/step - loss: 0.4003 - acc: 0.8359\n",
      "Epoch 53/100\n",
      "8000/8000 [==============================] - 1s 115us/step - loss: 0.4008 - acc: 0.8331\n",
      "Epoch 54/100\n",
      "8000/8000 [==============================] - 1s 118us/step - loss: 0.4003 - acc: 0.8356\n",
      "Epoch 55/100\n",
      "8000/8000 [==============================] - 1s 115us/step - loss: 0.4004 - acc: 0.8337\n",
      "Epoch 56/100\n",
      "8000/8000 [==============================] - 1s 113us/step - loss: 0.4004 - acc: 0.8346\n",
      "Epoch 57/100\n",
      "8000/8000 [==============================] - 1s 117us/step - loss: 0.4007 - acc: 0.8362\n",
      "Epoch 58/100\n",
      "8000/8000 [==============================] - 1s 115us/step - loss: 0.4006 - acc: 0.8351\n",
      "Epoch 59/100\n",
      "8000/8000 [==============================] - 1s 111us/step - loss: 0.4004 - acc: 0.8337\n",
      "Epoch 60/100\n",
      "8000/8000 [==============================] - 1s 118us/step - loss: 0.4000 - acc: 0.8351\n",
      "Epoch 61/100\n",
      "8000/8000 [==============================] - 1s 114us/step - loss: 0.4002 - acc: 0.8340\n",
      "Epoch 62/100\n",
      "8000/8000 [==============================] - 1s 116us/step - loss: 0.4005 - acc: 0.8350\n",
      "Epoch 63/100\n",
      "8000/8000 [==============================] - 1s 114us/step - loss: 0.4003 - acc: 0.8360\n",
      "Epoch 64/100\n",
      "8000/8000 [==============================] - 1s 114us/step - loss: 0.4006 - acc: 0.8364\n",
      "Epoch 65/100\n",
      "8000/8000 [==============================] - 1s 115us/step - loss: 0.4002 - acc: 0.8345\n",
      "Epoch 66/100\n",
      "8000/8000 [==============================] - 1s 127us/step - loss: 0.4002 - acc: 0.8340\n",
      "Epoch 67/100\n",
      "8000/8000 [==============================] - 1s 114us/step - loss: 0.4003 - acc: 0.8335\n",
      "Epoch 68/100\n",
      "8000/8000 [==============================] - 1s 116us/step - loss: 0.4003 - acc: 0.8356\n",
      "Epoch 69/100\n",
      "8000/8000 [==============================] - 1s 115us/step - loss: 0.4005 - acc: 0.8350\n",
      "Epoch 70/100\n",
      "8000/8000 [==============================] - 1s 124us/step - loss: 0.4002 - acc: 0.8347\n",
      "Epoch 71/100\n",
      "8000/8000 [==============================] - 1s 122us/step - loss: 0.4002 - acc: 0.8354\n",
      "Epoch 72/100\n",
      "8000/8000 [==============================] - 1s 117us/step - loss: 0.3999 - acc: 0.8355\n",
      "Epoch 73/100\n",
      "8000/8000 [==============================] - 1s 118us/step - loss: 0.4002 - acc: 0.8344\n",
      "Epoch 74/100\n",
      "8000/8000 [==============================] - 1s 119us/step - loss: 0.4000 - acc: 0.8334\n",
      "Epoch 75/100\n",
      "8000/8000 [==============================] - 1s 121us/step - loss: 0.4002 - acc: 0.8361\n",
      "Epoch 76/100\n",
      "8000/8000 [==============================] - 1s 117us/step - loss: 0.4003 - acc: 0.8349\n",
      "Epoch 77/100\n",
      "8000/8000 [==============================] - 1s 119us/step - loss: 0.3998 - acc: 0.8346\n",
      "Epoch 78/100\n",
      "8000/8000 [==============================] - 1s 117us/step - loss: 0.4003 - acc: 0.8345\n",
      "Epoch 79/100\n"
     ]
    },
    {
     "name": "stdout",
     "output_type": "stream",
     "text": [
      "8000/8000 [==============================] - 1s 111us/step - loss: 0.4000 - acc: 0.8346\n",
      "Epoch 80/100\n",
      "8000/8000 [==============================] - 1s 115us/step - loss: 0.3996 - acc: 0.8349\n",
      "Epoch 81/100\n",
      "8000/8000 [==============================] - 1s 114us/step - loss: 0.4005 - acc: 0.8346\n",
      "Epoch 82/100\n",
      "8000/8000 [==============================] - 1s 111us/step - loss: 0.4000 - acc: 0.8351\n",
      "Epoch 83/100\n",
      "8000/8000 [==============================] - 1s 113us/step - loss: 0.3995 - acc: 0.8337\n",
      "Epoch 84/100\n",
      "8000/8000 [==============================] - 1s 113us/step - loss: 0.4001 - acc: 0.8359\n",
      "Epoch 85/100\n",
      "8000/8000 [==============================] - 1s 110us/step - loss: 0.3998 - acc: 0.8362\n",
      "Epoch 86/100\n",
      "8000/8000 [==============================] - 1s 110us/step - loss: 0.4003 - acc: 0.8364\n",
      "Epoch 87/100\n",
      "8000/8000 [==============================] - 1s 113us/step - loss: 0.3999 - acc: 0.8356\n",
      "Epoch 88/100\n",
      "8000/8000 [==============================] - 1s 113us/step - loss: 0.4000 - acc: 0.8345\n",
      "Epoch 89/100\n",
      "8000/8000 [==============================] - 1s 116us/step - loss: 0.3999 - acc: 0.8371\n",
      "Epoch 90/100\n",
      "8000/8000 [==============================] - 1s 112us/step - loss: 0.3998 - acc: 0.8349\n",
      "Epoch 91/100\n",
      "8000/8000 [==============================] - 1s 116us/step - loss: 0.3996 - acc: 0.8367\n",
      "Epoch 92/100\n",
      "8000/8000 [==============================] - 1s 113us/step - loss: 0.3992 - acc: 0.8351\n",
      "Epoch 93/100\n",
      "8000/8000 [==============================] - 1s 114us/step - loss: 0.4004 - acc: 0.8365\n",
      "Epoch 94/100\n",
      "8000/8000 [==============================] - 1s 116us/step - loss: 0.4000 - acc: 0.8347\n",
      "Epoch 95/100\n",
      "8000/8000 [==============================] - 1s 113us/step - loss: 0.3996 - acc: 0.8346\n",
      "Epoch 96/100\n",
      "8000/8000 [==============================] - 1s 115us/step - loss: 0.3996 - acc: 0.8357\n",
      "Epoch 97/100\n",
      "8000/8000 [==============================] - 1s 114us/step - loss: 0.3997 - acc: 0.8361\n",
      "Epoch 98/100\n",
      "8000/8000 [==============================] - 1s 111us/step - loss: 0.3997 - acc: 0.8342\n",
      "Epoch 99/100\n",
      "8000/8000 [==============================] - 1s 115us/step - loss: 0.3995 - acc: 0.8361\n",
      "Epoch 100/100\n",
      "8000/8000 [==============================] - 1s 111us/step - loss: 0.3993 - acc: 0.8365\n"
     ]
    },
    {
     "data": {
      "text/plain": [
       "<keras.callbacks.History at 0x23f41fa6e80>"
      ]
     },
     "execution_count": 15,
     "metadata": {},
     "output_type": "execute_result"
    }
   ],
   "source": [
    "# Fitting the ANN\n",
    "classifier.fit(X_train,y_train,batch_size=10,nb_epoch=100)"
   ]
  },
  {
   "cell_type": "code",
   "execution_count": 16,
   "metadata": {},
   "outputs": [],
   "source": [
    "# predicting test set results\n",
    "y_pred=classifier.predict(X_test)\n",
    "y_pred=(y_pred>0.5)"
   ]
  },
  {
   "cell_type": "code",
   "execution_count": 17,
   "metadata": {},
   "outputs": [],
   "source": [
    "#Predicting a single new observation\n",
    "\"\"\"Predict if the customer with the following informations will leave the bank:\n",
    "Geography: France\n",
    "Credit Score: 600\n",
    "Gender: Male\n",
    "Age: 40\n",
    "Tenure: 3\n",
    "Balance: 60000\n",
    "Number of Products: 2\n",
    "Has Credit Card: Yes\n",
    "Is Active Member: Yes\n",
    "Estimated Salary: 50000\"\"\"\n",
    "\n",
    "new_pred=classifier.predict(sc.transform(np.array([[0.0, 0, 600, 1, 40, 3, 60000, 2, 1, 1, 50000]])))\n",
    "new_pred=(new_pred>0.5)"
   ]
  },
  {
   "cell_type": "code",
   "execution_count": 18,
   "metadata": {},
   "outputs": [
    {
     "name": "stdout",
     "output_type": "stream",
     "text": [
      "[[False]]\n"
     ]
    }
   ],
   "source": [
    "print(new_pred)"
   ]
  },
  {
   "cell_type": "code",
   "execution_count": 19,
   "metadata": {},
   "outputs": [
    {
     "name": "stdout",
     "output_type": "stream",
     "text": [
      "[[1546   49]\n",
      " [ 270  135]]\n"
     ]
    }
   ],
   "source": [
    "#Making the Confusion Matrix\n",
    "from sklearn.metrics import confusion_matrix\n",
    "cm=confusion_matrix(y_test,y_pred)\n",
    "print(cm)"
   ]
  },
  {
   "cell_type": "code",
   "execution_count": null,
   "metadata": {},
   "outputs": [],
   "source": []
  }
 ],
 "metadata": {
  "kernelspec": {
   "display_name": "Python 3",
   "language": "python",
   "name": "python3"
  },
  "language_info": {
   "codemirror_mode": {
    "name": "ipython",
    "version": 3
   },
   "file_extension": ".py",
   "mimetype": "text/x-python",
   "name": "python",
   "nbconvert_exporter": "python",
   "pygments_lexer": "ipython3",
   "version": "3.6.7"
  }
 },
 "nbformat": 4,
 "nbformat_minor": 2
}
