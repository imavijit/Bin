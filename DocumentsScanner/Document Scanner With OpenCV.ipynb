{
 "cells": [
  {
   "cell_type": "code",
   "execution_count": 1,
   "metadata": {},
   "outputs": [],
   "source": [
    "import numpy as np\n",
    "import cv2\n",
    "import imutils\n",
    "from skimage.filters import threshold_local\n",
    "##from pyimagesearch.transform import four_point_transform"
   ]
  },
  {
   "cell_type": "code",
   "execution_count": 2,
   "metadata": {},
   "outputs": [],
   "source": [
    "image=cv2.imread(\"D:\\Machine Learning\\document.jpg\")\n",
    "orig=image.copy()\n",
    "ratio=image.shape[0] /500.0\n",
    "image=imutils.resize(image, height=500)"
   ]
  },
  {
   "cell_type": "code",
   "execution_count": 3,
   "metadata": {},
   "outputs": [],
   "source": [
    "#convert image to gray,blur it, and find edges\n",
    "gray_image=cv2.cvtColor(image, cv2.COLOR_BGR2GRAY)\n",
    "gray_image=cv2.GaussianBlur(gray_image,(5,5),0)\n",
    "edged=cv2.Canny(gray_image, 75, 200)"
   ]
  },
  {
   "cell_type": "code",
   "execution_count": 4,
   "metadata": {},
   "outputs": [],
   "source": [
    "cv2.imshow(\"Image\",image)\n",
    "cv2.imshow(\"Edged\",edged)\n",
    "cv2.waitKey(0)\n",
    "cv2.destroyAllWindows()"
   ]
  },
  {
   "cell_type": "code",
   "execution_count": 5,
   "metadata": {},
   "outputs": [],
   "source": [
    "#Finding Contours in the edged images\n",
    "contrs=cv2.findContours(edged.copy(),cv2.RETR_LIST, cv2.CHAIN_APPROX_SIMPLE)\n",
    "contrs=imutils.grab_contours(contrs)\n",
    "#sorting the contours by area to keep only the large contours\n",
    "contrs = sorted(contrs, key = cv2.contourArea, reverse = True)[:5]\n",
    "\n",
    "#loop over the contours\n",
    "for c in contrs:\n",
    "    #finding the Contour Perimeter by arclength method\n",
    "    perimeter=cv2.arcLength(c,True)\n",
    "    #approximate the contour using  Douglas-Peucker algorithm\n",
    "    #epsilon is maximum distance from contour to approximated contour\n",
    "    epsilon=0.02*perimeter\n",
    "    #approximate the number of points\n",
    "    approx=cv2.approxPolyDP(c,epsilon,True)\n",
    "\n",
    "    #if  approximated contour has four points, then we\n",
    "    # can assume that we have found our documents\n",
    "    if len(approx)==4:\n",
    "        screenCnt=approx\n",
    "        break\n",
    "#Showing the contours i.e outline of the paper\n",
    "cv2.drawContours(image,[approx],-1,(255,0,0),2)\n",
    "cv2.imshow(\"Outline\",image)\n",
    "cv2.waitKey(0)\n",
    "cv2.destroyAllWindows()"
   ]
  },
  {
   "cell_type": "code",
   "execution_count": null,
   "metadata": {},
   "outputs": [],
   "source": []
  }
 ],
 "metadata": {
  "kernelspec": {
   "display_name": "Python 3",
   "language": "python",
   "name": "python3"
  },
  "language_info": {
   "codemirror_mode": {
    "name": "ipython",
    "version": 3
   },
   "file_extension": ".py",
   "mimetype": "text/x-python",
   "name": "python",
   "nbconvert_exporter": "python",
   "pygments_lexer": "ipython3",
   "version": "3.6.7"
  }
 },
 "nbformat": 4,
 "nbformat_minor": 2
}
